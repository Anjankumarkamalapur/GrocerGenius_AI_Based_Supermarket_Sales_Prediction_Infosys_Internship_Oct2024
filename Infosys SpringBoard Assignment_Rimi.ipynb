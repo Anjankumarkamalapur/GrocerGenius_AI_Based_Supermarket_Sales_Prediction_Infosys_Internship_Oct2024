{
 "cells": [
  {
   "cell_type": "markdown",
   "id": "df1d27c4",
   "metadata": {},
   "source": [
    "# Infosys SpringBoard Task 1\n",
    "In this notebook, we will explore various data visualization techniques and handle missing values in a dataset. We will use Python libraries such as Pandas, Seaborn, and Matplotlib to visualize the data and preprocess it."
   ]
  },
  {
   "cell_type": "code",
   "execution_count": 1,
   "id": "8437a6d7",
   "metadata": {},
   "outputs": [],
   "source": [
    "import pandas as pd\n",
    "import numpy as np\n",
    "import matplotlib.pyplot as plt\n",
    "import seaborn as sns\n",
    "import category_encoders as ce\n",
    "from sklearn.preprocessing import StandardScaler, OrdinalEncoder,OneHotEncoder\n",
    "from sklearn.compose import ColumnTransformer\n",
    "from scipy import stats"
   ]
  },
  {
   "cell_type": "markdown",
   "id": "191abd14",
   "metadata": {},
   "source": [
    "# Load the Dataset\n",
    "We will begin by loading the dataset and inspecting the first few rows."
   ]
  },
  {
   "cell_type": "code",
   "execution_count": 2,
   "id": "14a4b342",
   "metadata": {},
   "outputs": [
    {
     "data": {
      "text/html": [
       "<div>\n",
       "<style scoped>\n",
       "    .dataframe tbody tr th:only-of-type {\n",
       "        vertical-align: middle;\n",
       "    }\n",
       "\n",
       "    .dataframe tbody tr th {\n",
       "        vertical-align: top;\n",
       "    }\n",
       "\n",
       "    .dataframe thead th {\n",
       "        text-align: right;\n",
       "    }\n",
       "</style>\n",
       "<table border=\"1\" class=\"dataframe\">\n",
       "  <thead>\n",
       "    <tr style=\"text-align: right;\">\n",
       "      <th></th>\n",
       "      <th>Item_Identifier</th>\n",
       "      <th>Item_Weight</th>\n",
       "      <th>Item_Fat_Content</th>\n",
       "      <th>Item_Visibility</th>\n",
       "      <th>Item_Type</th>\n",
       "      <th>Item_MRP</th>\n",
       "      <th>Outlet_Identifier</th>\n",
       "      <th>Outlet_Establishment_Year</th>\n",
       "      <th>Outlet_Size</th>\n",
       "      <th>Outlet_Location_Type</th>\n",
       "      <th>Outlet_Type</th>\n",
       "      <th>Item_Outlet_Sales</th>\n",
       "    </tr>\n",
       "  </thead>\n",
       "  <tbody>\n",
       "    <tr>\n",
       "      <th>0</th>\n",
       "      <td>FDA15</td>\n",
       "      <td>9.30</td>\n",
       "      <td>Low Fat</td>\n",
       "      <td>0.016047</td>\n",
       "      <td>Dairy</td>\n",
       "      <td>249.8092</td>\n",
       "      <td>OUT049</td>\n",
       "      <td>1999</td>\n",
       "      <td>Medium</td>\n",
       "      <td>Tier 1</td>\n",
       "      <td>Supermarket Type1</td>\n",
       "      <td>3735.1380</td>\n",
       "    </tr>\n",
       "    <tr>\n",
       "      <th>1</th>\n",
       "      <td>DRC01</td>\n",
       "      <td>5.92</td>\n",
       "      <td>Regular</td>\n",
       "      <td>0.019278</td>\n",
       "      <td>Soft Drinks</td>\n",
       "      <td>48.2692</td>\n",
       "      <td>OUT018</td>\n",
       "      <td>2009</td>\n",
       "      <td>Medium</td>\n",
       "      <td>Tier 3</td>\n",
       "      <td>Supermarket Type2</td>\n",
       "      <td>443.4228</td>\n",
       "    </tr>\n",
       "    <tr>\n",
       "      <th>2</th>\n",
       "      <td>FDN15</td>\n",
       "      <td>17.50</td>\n",
       "      <td>Low Fat</td>\n",
       "      <td>0.016760</td>\n",
       "      <td>Meat</td>\n",
       "      <td>141.6180</td>\n",
       "      <td>OUT049</td>\n",
       "      <td>1999</td>\n",
       "      <td>Medium</td>\n",
       "      <td>Tier 1</td>\n",
       "      <td>Supermarket Type1</td>\n",
       "      <td>2097.2700</td>\n",
       "    </tr>\n",
       "    <tr>\n",
       "      <th>3</th>\n",
       "      <td>FDX07</td>\n",
       "      <td>19.20</td>\n",
       "      <td>Regular</td>\n",
       "      <td>0.000000</td>\n",
       "      <td>Fruits and Vegetables</td>\n",
       "      <td>182.0950</td>\n",
       "      <td>OUT010</td>\n",
       "      <td>1998</td>\n",
       "      <td>NaN</td>\n",
       "      <td>Tier 3</td>\n",
       "      <td>Grocery Store</td>\n",
       "      <td>732.3800</td>\n",
       "    </tr>\n",
       "    <tr>\n",
       "      <th>4</th>\n",
       "      <td>NCD19</td>\n",
       "      <td>8.93</td>\n",
       "      <td>Low Fat</td>\n",
       "      <td>0.000000</td>\n",
       "      <td>Household</td>\n",
       "      <td>53.8614</td>\n",
       "      <td>OUT013</td>\n",
       "      <td>1987</td>\n",
       "      <td>High</td>\n",
       "      <td>Tier 3</td>\n",
       "      <td>Supermarket Type1</td>\n",
       "      <td>994.7052</td>\n",
       "    </tr>\n",
       "  </tbody>\n",
       "</table>\n",
       "</div>"
      ],
      "text/plain": [
       "  Item_Identifier  Item_Weight Item_Fat_Content  Item_Visibility  \\\n",
       "0           FDA15         9.30          Low Fat         0.016047   \n",
       "1           DRC01         5.92          Regular         0.019278   \n",
       "2           FDN15        17.50          Low Fat         0.016760   \n",
       "3           FDX07        19.20          Regular         0.000000   \n",
       "4           NCD19         8.93          Low Fat         0.000000   \n",
       "\n",
       "               Item_Type  Item_MRP Outlet_Identifier  \\\n",
       "0                  Dairy  249.8092            OUT049   \n",
       "1            Soft Drinks   48.2692            OUT018   \n",
       "2                   Meat  141.6180            OUT049   \n",
       "3  Fruits and Vegetables  182.0950            OUT010   \n",
       "4              Household   53.8614            OUT013   \n",
       "\n",
       "   Outlet_Establishment_Year Outlet_Size Outlet_Location_Type  \\\n",
       "0                       1999      Medium               Tier 1   \n",
       "1                       2009      Medium               Tier 3   \n",
       "2                       1999      Medium               Tier 1   \n",
       "3                       1998         NaN               Tier 3   \n",
       "4                       1987        High               Tier 3   \n",
       "\n",
       "         Outlet_Type  Item_Outlet_Sales  \n",
       "0  Supermarket Type1          3735.1380  \n",
       "1  Supermarket Type2           443.4228  \n",
       "2  Supermarket Type1          2097.2700  \n",
       "3      Grocery Store           732.3800  \n",
       "4  Supermarket Type1           994.7052  "
      ]
     },
     "execution_count": 2,
     "metadata": {},
     "output_type": "execute_result"
    }
   ],
   "source": [
    "df = pd.read_csv('Train.csv')\n",
    "df.head()"
   ]
  },
  {
   "cell_type": "markdown",
   "id": "71c21920",
   "metadata": {},
   "source": [
    "# Imputation Of Missing Values\n",
    "We check for missing values of the dataset"
   ]
  },
  {
   "cell_type": "code",
   "execution_count": 3,
   "id": "29684913",
   "metadata": {},
   "outputs": [
    {
     "data": {
      "text/plain": [
       "Item_Identifier                 0\n",
       "Item_Weight                  1463\n",
       "Item_Fat_Content                0\n",
       "Item_Visibility                 0\n",
       "Item_Type                       0\n",
       "Item_MRP                        0\n",
       "Outlet_Identifier               0\n",
       "Outlet_Establishment_Year       0\n",
       "Outlet_Size                  2410\n",
       "Outlet_Location_Type            0\n",
       "Outlet_Type                     0\n",
       "Item_Outlet_Sales               0\n",
       "dtype: int64"
      ]
     },
     "execution_count": 3,
     "metadata": {},
     "output_type": "execute_result"
    }
   ],
   "source": [
    "df.isnull().sum()  # Check missing values"
   ]
  },
  {
   "cell_type": "markdown",
   "id": "8de8b05e",
   "metadata": {},
   "source": [
    "# Observations\n",
    "There are missing values in `Item_Weight` and `Outlet_Size`.\n",
    "\n",
    "# Handling Missing Values\n",
    "\n",
    "* Fill missing `Item_Weight` values by the median weight within each `Item_Type`.\n",
    "* Fill missing `Outlet_Size` using the mode based on `Outlet_Type`."
   ]
  },
  {
   "cell_type": "code",
   "execution_count": 4,
   "id": "3e2ae2ca",
   "metadata": {},
   "outputs": [],
   "source": [
    "# Filling missing Item_Weight values\n",
    "df['Item_Weight'] = df.groupby('Item_Type')['Item_Weight'].transform(lambda x: x.fillna(x.median()))\n",
    "\n",
    "# Filling missing Outlet_Size values\n",
    "df['Outlet_Size'] = df.groupby('Outlet_Type')['Outlet_Size'].transform(lambda x: x.fillna(x.mode()[0] if not x.mode().empty else 'Unknown'))\n"
   ]
  },
  {
   "cell_type": "code",
   "execution_count": 5,
   "id": "bd586015",
   "metadata": {},
   "outputs": [
    {
     "data": {
      "text/plain": [
       "Item_Identifier              0\n",
       "Item_Weight                  0\n",
       "Item_Fat_Content             0\n",
       "Item_Visibility              0\n",
       "Item_Type                    0\n",
       "Item_MRP                     0\n",
       "Outlet_Identifier            0\n",
       "Outlet_Establishment_Year    0\n",
       "Outlet_Size                  0\n",
       "Outlet_Location_Type         0\n",
       "Outlet_Type                  0\n",
       "Item_Outlet_Sales            0\n",
       "dtype: int64"
      ]
     },
     "execution_count": 5,
     "metadata": {},
     "output_type": "execute_result"
    }
   ],
   "source": [
    "# Verifying no missing values\n",
    "df.isnull().sum()\n"
   ]
  },
  {
   "cell_type": "markdown",
   "id": "97db1470",
   "metadata": {},
   "source": [
    "# Feature Encoding\n",
    "Feature encoding was performed on both nominal and ordinal features in the dataset. This converts categorical values into numerical labels, making the data compatible with machine learning models."
   ]
  },
  {
   "cell_type": "code",
   "execution_count": 6,
   "id": "91a44918",
   "metadata": {},
   "outputs": [
    {
     "name": "stdout",
     "output_type": "stream",
     "text": [
      "Nominal Columns:  ['Item_Identifier', 'Item_Fat_Content', 'Item_Type', 'Outlet_Identifier', 'Outlet_Location_Type', 'Outlet_Type']\n",
      "Ordinal Columns:  ['Outlet_Size']\n",
      "Numerical Columns:  ['Item_Weight', 'Item_Visibility', 'Item_MRP', 'Item_Outlet_Sales', 'Outlet_Establishment_Year']\n"
     ]
    }
   ],
   "source": [
    "# Nominal columns (categorical without order)\n",
    "nominal_columns = ['Item_Identifier', 'Item_Fat_Content', 'Item_Type', 'Outlet_Identifier', 'Outlet_Location_Type', 'Outlet_Type']\n",
    "\n",
    "# Ordinal columns (categorical with order)\n",
    "ordinal_columns = ['Outlet_Size']\n",
    "\n",
    "# Continuous (Numerical columns)\n",
    "numerical_columns = ['Item_Weight', 'Item_Visibility', 'Item_MRP', 'Item_Outlet_Sales', 'Outlet_Establishment_Year']\n",
    "\n",
    "# Printing them separately\n",
    "print(\"Nominal Columns: \", nominal_columns)\n",
    "print(\"Ordinal Columns: \", ordinal_columns)\n",
    "print(\"Numerical Columns: \", numerical_columns)"
   ]
  },
  {
   "cell_type": "code",
   "execution_count": 7,
   "id": "215c677d",
   "metadata": {},
   "outputs": [],
   "source": [
    "# Define the mapping for the ordinal column 'Outlet_Size'\n",
    "outlet_size_mapping = ['Small', 'Medium', 'High']\n"
   ]
  },
  {
   "cell_type": "code",
   "execution_count": 8,
   "id": "c93ace1e",
   "metadata": {},
   "outputs": [],
   "source": [
    "# Creating encoders and scaler\n",
    "ohe = OneHotEncoder(sparse_output=False)  # For nominal columns\n",
    "ordinal = OrdinalEncoder(categories=[outlet_size_mapping])  # For ordinal column\n",
    "scaler = StandardScaler()  # For numerical columns"
   ]
  },
  {
   "cell_type": "code",
   "execution_count": 10,
   "id": "30df2a2f",
   "metadata": {},
   "outputs": [
    {
     "data": {
      "text/html": [
       "<style>#sk-container-id-2 {color: black;}#sk-container-id-2 pre{padding: 0;}#sk-container-id-2 div.sk-toggleable {background-color: white;}#sk-container-id-2 label.sk-toggleable__label {cursor: pointer;display: block;width: 100%;margin-bottom: 0;padding: 0.3em;box-sizing: border-box;text-align: center;}#sk-container-id-2 label.sk-toggleable__label-arrow:before {content: \"▸\";float: left;margin-right: 0.25em;color: #696969;}#sk-container-id-2 label.sk-toggleable__label-arrow:hover:before {color: black;}#sk-container-id-2 div.sk-estimator:hover label.sk-toggleable__label-arrow:before {color: black;}#sk-container-id-2 div.sk-toggleable__content {max-height: 0;max-width: 0;overflow: hidden;text-align: left;background-color: #f0f8ff;}#sk-container-id-2 div.sk-toggleable__content pre {margin: 0.2em;color: black;border-radius: 0.25em;background-color: #f0f8ff;}#sk-container-id-2 input.sk-toggleable__control:checked~div.sk-toggleable__content {max-height: 200px;max-width: 100%;overflow: auto;}#sk-container-id-2 input.sk-toggleable__control:checked~label.sk-toggleable__label-arrow:before {content: \"▾\";}#sk-container-id-2 div.sk-estimator input.sk-toggleable__control:checked~label.sk-toggleable__label {background-color: #d4ebff;}#sk-container-id-2 div.sk-label input.sk-toggleable__control:checked~label.sk-toggleable__label {background-color: #d4ebff;}#sk-container-id-2 input.sk-hidden--visually {border: 0;clip: rect(1px 1px 1px 1px);clip: rect(1px, 1px, 1px, 1px);height: 1px;margin: -1px;overflow: hidden;padding: 0;position: absolute;width: 1px;}#sk-container-id-2 div.sk-estimator {font-family: monospace;background-color: #f0f8ff;border: 1px dotted black;border-radius: 0.25em;box-sizing: border-box;margin-bottom: 0.5em;}#sk-container-id-2 div.sk-estimator:hover {background-color: #d4ebff;}#sk-container-id-2 div.sk-parallel-item::after {content: \"\";width: 100%;border-bottom: 1px solid gray;flex-grow: 1;}#sk-container-id-2 div.sk-label:hover label.sk-toggleable__label {background-color: #d4ebff;}#sk-container-id-2 div.sk-serial::before {content: \"\";position: absolute;border-left: 1px solid gray;box-sizing: border-box;top: 0;bottom: 0;left: 50%;z-index: 0;}#sk-container-id-2 div.sk-serial {display: flex;flex-direction: column;align-items: center;background-color: white;padding-right: 0.2em;padding-left: 0.2em;position: relative;}#sk-container-id-2 div.sk-item {position: relative;z-index: 1;}#sk-container-id-2 div.sk-parallel {display: flex;align-items: stretch;justify-content: center;background-color: white;position: relative;}#sk-container-id-2 div.sk-item::before, #sk-container-id-2 div.sk-parallel-item::before {content: \"\";position: absolute;border-left: 1px solid gray;box-sizing: border-box;top: 0;bottom: 0;left: 50%;z-index: -1;}#sk-container-id-2 div.sk-parallel-item {display: flex;flex-direction: column;z-index: 1;position: relative;background-color: white;}#sk-container-id-2 div.sk-parallel-item:first-child::after {align-self: flex-end;width: 50%;}#sk-container-id-2 div.sk-parallel-item:last-child::after {align-self: flex-start;width: 50%;}#sk-container-id-2 div.sk-parallel-item:only-child::after {width: 0;}#sk-container-id-2 div.sk-dashed-wrapped {border: 1px dashed gray;margin: 0 0.4em 0.5em 0.4em;box-sizing: border-box;padding-bottom: 0.4em;background-color: white;}#sk-container-id-2 div.sk-label label {font-family: monospace;font-weight: bold;display: inline-block;line-height: 1.2em;}#sk-container-id-2 div.sk-label-container {text-align: center;}#sk-container-id-2 div.sk-container {/* jupyter's `normalize.less` sets `[hidden] { display: none; }` but bootstrap.min.css set `[hidden] { display: none !important; }` so we also need the `!important` here to be able to override the default hidden behavior on the sphinx rendered scikit-learn.org. See: https://github.com/scikit-learn/scikit-learn/issues/21755 */display: inline-block !important;position: relative;}#sk-container-id-2 div.sk-text-repr-fallback {display: none;}</style><div id=\"sk-container-id-2\" class=\"sk-top-container\"><div class=\"sk-text-repr-fallback\"><pre>ColumnTransformer(remainder=&#x27;passthrough&#x27;,\n",
       "                  transformers=[(&#x27;ohe&#x27;, OneHotEncoder(sparse_output=False),\n",
       "                                 [&#x27;Item_Identifier&#x27;, &#x27;Item_Fat_Content&#x27;,\n",
       "                                  &#x27;Item_Type&#x27;, &#x27;Outlet_Identifier&#x27;,\n",
       "                                  &#x27;Outlet_Location_Type&#x27;, &#x27;Outlet_Type&#x27;]),\n",
       "                                (&#x27;ordinal&#x27;,\n",
       "                                 OrdinalEncoder(categories=[[&#x27;Small&#x27;, &#x27;Medium&#x27;,\n",
       "                                                             &#x27;High&#x27;]]),\n",
       "                                 [&#x27;Outlet_Size&#x27;]),\n",
       "                                (&#x27;scaler&#x27;, StandardScaler(),\n",
       "                                 [&#x27;Item_Weight&#x27;, &#x27;Item_Visibility&#x27;, &#x27;Item_MRP&#x27;,\n",
       "                                  &#x27;Outlet_Establishment_Year&#x27;,\n",
       "                                  &#x27;Item_Outlet_Sales&#x27;])])</pre><b>In a Jupyter environment, please rerun this cell to show the HTML representation or trust the notebook. <br />On GitHub, the HTML representation is unable to render, please try loading this page with nbviewer.org.</b></div><div class=\"sk-container\" hidden><div class=\"sk-item sk-dashed-wrapped\"><div class=\"sk-label-container\"><div class=\"sk-label sk-toggleable\"><input class=\"sk-toggleable__control sk-hidden--visually\" id=\"sk-estimator-id-10\" type=\"checkbox\" ><label for=\"sk-estimator-id-10\" class=\"sk-toggleable__label sk-toggleable__label-arrow\">ColumnTransformer</label><div class=\"sk-toggleable__content\"><pre>ColumnTransformer(remainder=&#x27;passthrough&#x27;,\n",
       "                  transformers=[(&#x27;ohe&#x27;, OneHotEncoder(sparse_output=False),\n",
       "                                 [&#x27;Item_Identifier&#x27;, &#x27;Item_Fat_Content&#x27;,\n",
       "                                  &#x27;Item_Type&#x27;, &#x27;Outlet_Identifier&#x27;,\n",
       "                                  &#x27;Outlet_Location_Type&#x27;, &#x27;Outlet_Type&#x27;]),\n",
       "                                (&#x27;ordinal&#x27;,\n",
       "                                 OrdinalEncoder(categories=[[&#x27;Small&#x27;, &#x27;Medium&#x27;,\n",
       "                                                             &#x27;High&#x27;]]),\n",
       "                                 [&#x27;Outlet_Size&#x27;]),\n",
       "                                (&#x27;scaler&#x27;, StandardScaler(),\n",
       "                                 [&#x27;Item_Weight&#x27;, &#x27;Item_Visibility&#x27;, &#x27;Item_MRP&#x27;,\n",
       "                                  &#x27;Outlet_Establishment_Year&#x27;,\n",
       "                                  &#x27;Item_Outlet_Sales&#x27;])])</pre></div></div></div><div class=\"sk-parallel\"><div class=\"sk-parallel-item\"><div class=\"sk-item\"><div class=\"sk-label-container\"><div class=\"sk-label sk-toggleable\"><input class=\"sk-toggleable__control sk-hidden--visually\" id=\"sk-estimator-id-11\" type=\"checkbox\" ><label for=\"sk-estimator-id-11\" class=\"sk-toggleable__label sk-toggleable__label-arrow\">ohe</label><div class=\"sk-toggleable__content\"><pre>[&#x27;Item_Identifier&#x27;, &#x27;Item_Fat_Content&#x27;, &#x27;Item_Type&#x27;, &#x27;Outlet_Identifier&#x27;, &#x27;Outlet_Location_Type&#x27;, &#x27;Outlet_Type&#x27;]</pre></div></div></div><div class=\"sk-serial\"><div class=\"sk-item\"><div class=\"sk-estimator sk-toggleable\"><input class=\"sk-toggleable__control sk-hidden--visually\" id=\"sk-estimator-id-12\" type=\"checkbox\" ><label for=\"sk-estimator-id-12\" class=\"sk-toggleable__label sk-toggleable__label-arrow\">OneHotEncoder</label><div class=\"sk-toggleable__content\"><pre>OneHotEncoder(sparse_output=False)</pre></div></div></div></div></div></div><div class=\"sk-parallel-item\"><div class=\"sk-item\"><div class=\"sk-label-container\"><div class=\"sk-label sk-toggleable\"><input class=\"sk-toggleable__control sk-hidden--visually\" id=\"sk-estimator-id-13\" type=\"checkbox\" ><label for=\"sk-estimator-id-13\" class=\"sk-toggleable__label sk-toggleable__label-arrow\">ordinal</label><div class=\"sk-toggleable__content\"><pre>[&#x27;Outlet_Size&#x27;]</pre></div></div></div><div class=\"sk-serial\"><div class=\"sk-item\"><div class=\"sk-estimator sk-toggleable\"><input class=\"sk-toggleable__control sk-hidden--visually\" id=\"sk-estimator-id-14\" type=\"checkbox\" ><label for=\"sk-estimator-id-14\" class=\"sk-toggleable__label sk-toggleable__label-arrow\">OrdinalEncoder</label><div class=\"sk-toggleable__content\"><pre>OrdinalEncoder(categories=[[&#x27;Small&#x27;, &#x27;Medium&#x27;, &#x27;High&#x27;]])</pre></div></div></div></div></div></div><div class=\"sk-parallel-item\"><div class=\"sk-item\"><div class=\"sk-label-container\"><div class=\"sk-label sk-toggleable\"><input class=\"sk-toggleable__control sk-hidden--visually\" id=\"sk-estimator-id-15\" type=\"checkbox\" ><label for=\"sk-estimator-id-15\" class=\"sk-toggleable__label sk-toggleable__label-arrow\">scaler</label><div class=\"sk-toggleable__content\"><pre>[&#x27;Item_Weight&#x27;, &#x27;Item_Visibility&#x27;, &#x27;Item_MRP&#x27;, &#x27;Outlet_Establishment_Year&#x27;, &#x27;Item_Outlet_Sales&#x27;]</pre></div></div></div><div class=\"sk-serial\"><div class=\"sk-item\"><div class=\"sk-estimator sk-toggleable\"><input class=\"sk-toggleable__control sk-hidden--visually\" id=\"sk-estimator-id-16\" type=\"checkbox\" ><label for=\"sk-estimator-id-16\" class=\"sk-toggleable__label sk-toggleable__label-arrow\">StandardScaler</label><div class=\"sk-toggleable__content\"><pre>StandardScaler()</pre></div></div></div></div></div></div><div class=\"sk-parallel-item\"><div class=\"sk-item\"><div class=\"sk-label-container\"><div class=\"sk-label sk-toggleable\"><input class=\"sk-toggleable__control sk-hidden--visually\" id=\"sk-estimator-id-17\" type=\"checkbox\" ><label for=\"sk-estimator-id-17\" class=\"sk-toggleable__label sk-toggleable__label-arrow\">remainder</label><div class=\"sk-toggleable__content\"><pre></pre></div></div></div><div class=\"sk-serial\"><div class=\"sk-item\"><div class=\"sk-estimator sk-toggleable\"><input class=\"sk-toggleable__control sk-hidden--visually\" id=\"sk-estimator-id-18\" type=\"checkbox\" ><label for=\"sk-estimator-id-18\" class=\"sk-toggleable__label sk-toggleable__label-arrow\">passthrough</label><div class=\"sk-toggleable__content\"><pre>passthrough</pre></div></div></div></div></div></div></div></div></div></div>"
      ],
      "text/plain": [
       "ColumnTransformer(remainder='passthrough',\n",
       "                  transformers=[('ohe', OneHotEncoder(sparse_output=False),\n",
       "                                 ['Item_Identifier', 'Item_Fat_Content',\n",
       "                                  'Item_Type', 'Outlet_Identifier',\n",
       "                                  'Outlet_Location_Type', 'Outlet_Type']),\n",
       "                                ('ordinal',\n",
       "                                 OrdinalEncoder(categories=[['Small', 'Medium',\n",
       "                                                             'High']]),\n",
       "                                 ['Outlet_Size']),\n",
       "                                ('scaler', StandardScaler(),\n",
       "                                 ['Item_Weight', 'Item_Visibility', 'Item_MRP',\n",
       "                                  'Outlet_Establishment_Year',\n",
       "                                  'Item_Outlet_Sales'])])"
      ]
     },
     "execution_count": 10,
     "metadata": {},
     "output_type": "execute_result"
    }
   ],
   "source": [
    "# Creating the column transformer\n",
    "ct = ColumnTransformer(\n",
    "    transformers=[\n",
    "        ('ohe', ohe, ['Item_Identifier', 'Item_Fat_Content', 'Item_Type', 'Outlet_Identifier', 'Outlet_Location_Type', 'Outlet_Type']),  # Nominal columns\n",
    "        ('ordinal', ordinal, ['Outlet_Size']),  # Ordinal column\n",
    "        ('scaler', scaler, ['Item_Weight', 'Item_Visibility', 'Item_MRP', 'Outlet_Establishment_Year', 'Item_Outlet_Sales'])  # Numerical columns\n",
    "    ],\n",
    "    remainder='passthrough'  # Keep the remaining columns as they are\n",
    ")\n",
    "\n",
    "# Setting the output for transformers to 'pandas'\n",
    "ct.set_output(transform='pandas')\n"
   ]
  },
  {
   "cell_type": "code",
   "execution_count": 25,
   "id": "dc2692e9",
   "metadata": {
    "scrolled": true
   },
   "outputs": [
    {
     "name": "stdout",
     "output_type": "stream",
     "text": [
      "      ohe__Item_Identifier_DRA12  ohe__Item_Identifier_DRA24  \\\n",
      "0                            0.0                         0.0   \n",
      "1                            0.0                         0.0   \n",
      "2                            0.0                         0.0   \n",
      "3                            0.0                         0.0   \n",
      "4                            0.0                         0.0   \n",
      "...                          ...                         ...   \n",
      "8518                         0.0                         0.0   \n",
      "8519                         0.0                         0.0   \n",
      "8520                         0.0                         0.0   \n",
      "8521                         0.0                         0.0   \n",
      "8522                         0.0                         0.0   \n",
      "\n",
      "      ohe__Item_Identifier_DRA59  ohe__Item_Identifier_DRB01  \\\n",
      "0                            0.0                         0.0   \n",
      "1                            0.0                         0.0   \n",
      "2                            0.0                         0.0   \n",
      "3                            0.0                         0.0   \n",
      "4                            0.0                         0.0   \n",
      "...                          ...                         ...   \n",
      "8518                         0.0                         0.0   \n",
      "8519                         0.0                         0.0   \n",
      "8520                         0.0                         0.0   \n",
      "8521                         0.0                         0.0   \n",
      "8522                         0.0                         0.0   \n",
      "\n",
      "      ohe__Item_Identifier_DRB13  ohe__Item_Identifier_DRB24  \\\n",
      "0                            0.0                         0.0   \n",
      "1                            0.0                         0.0   \n",
      "2                            0.0                         0.0   \n",
      "3                            0.0                         0.0   \n",
      "4                            0.0                         0.0   \n",
      "...                          ...                         ...   \n",
      "8518                         0.0                         0.0   \n",
      "8519                         0.0                         0.0   \n",
      "8520                         0.0                         0.0   \n",
      "8521                         0.0                         0.0   \n",
      "8522                         0.0                         0.0   \n",
      "\n",
      "      ohe__Item_Identifier_DRB25  ohe__Item_Identifier_DRB48  \\\n",
      "0                            0.0                         0.0   \n",
      "1                            0.0                         0.0   \n",
      "2                            0.0                         0.0   \n",
      "3                            0.0                         0.0   \n",
      "4                            0.0                         0.0   \n",
      "...                          ...                         ...   \n",
      "8518                         0.0                         0.0   \n",
      "8519                         0.0                         0.0   \n",
      "8520                         0.0                         0.0   \n",
      "8521                         0.0                         0.0   \n",
      "8522                         0.0                         0.0   \n",
      "\n",
      "      ohe__Item_Identifier_DRC01  ohe__Item_Identifier_DRC12  ...  \\\n",
      "0                            0.0                         0.0  ...   \n",
      "1                            1.0                         0.0  ...   \n",
      "2                            0.0                         0.0  ...   \n",
      "3                            0.0                         0.0  ...   \n",
      "4                            0.0                         0.0  ...   \n",
      "...                          ...                         ...  ...   \n",
      "8518                         0.0                         0.0  ...   \n",
      "8519                         0.0                         0.0  ...   \n",
      "8520                         0.0                         0.0  ...   \n",
      "8521                         0.0                         0.0  ...   \n",
      "8522                         0.0                         0.0  ...   \n",
      "\n",
      "      ohe__Outlet_Type_Grocery Store  ohe__Outlet_Type_Supermarket Type1  \\\n",
      "0                                0.0                                 1.0   \n",
      "1                                0.0                                 0.0   \n",
      "2                                0.0                                 1.0   \n",
      "3                                1.0                                 0.0   \n",
      "4                                0.0                                 1.0   \n",
      "...                              ...                                 ...   \n",
      "8518                             0.0                                 1.0   \n",
      "8519                             0.0                                 1.0   \n",
      "8520                             0.0                                 1.0   \n",
      "8521                             0.0                                 0.0   \n",
      "8522                             0.0                                 1.0   \n",
      "\n",
      "      ohe__Outlet_Type_Supermarket Type2  ohe__Outlet_Type_Supermarket Type3  \\\n",
      "0                                    0.0                                 0.0   \n",
      "1                                    1.0                                 0.0   \n",
      "2                                    0.0                                 0.0   \n",
      "3                                    0.0                                 0.0   \n",
      "4                                    0.0                                 0.0   \n",
      "...                                  ...                                 ...   \n",
      "8518                                 0.0                                 0.0   \n",
      "8519                                 0.0                                 0.0   \n",
      "8520                                 0.0                                 0.0   \n",
      "8521                                 1.0                                 0.0   \n",
      "8522                                 0.0                                 0.0   \n",
      "\n",
      "      ordinal__Outlet_Size  scaler__Item_Weight  scaler__Item_Visibility  \\\n",
      "0                      1.0            -0.828408                -0.970732   \n",
      "1                      1.0            -1.625364                -0.908111   \n",
      "2                      1.0             1.105037                -0.956917   \n",
      "3                      0.0             1.505873                -1.281758   \n",
      "4                      2.0            -0.915649                -1.281758   \n",
      "...                    ...                  ...                      ...   \n",
      "8518                   2.0            -1.402547                -0.181193   \n",
      "8519                   0.0            -1.045331                -0.371154   \n",
      "8520                   0.0            -0.521886                -0.599784   \n",
      "8521                   1.0            -1.321200                 1.532880   \n",
      "8522                   0.0             0.468415                -0.411936   \n",
      "\n",
      "      scaler__Item_MRP  scaler__Outlet_Establishment_Year  \\\n",
      "0             1.747454                           0.139541   \n",
      "1            -1.489023                           1.334103   \n",
      "2             0.010040                           0.139541   \n",
      "3             0.660050                           0.020085   \n",
      "4            -1.399220                          -1.293934   \n",
      "...                ...                                ...   \n",
      "8518          1.180783                          -1.293934   \n",
      "8519         -0.527301                           0.497909   \n",
      "8520         -0.897208                           0.736822   \n",
      "8521         -0.607977                           1.334103   \n",
      "8522         -1.052261                          -0.099372   \n",
      "\n",
      "      scaler__Item_Outlet_Sales  \n",
      "0                      0.910601  \n",
      "1                     -1.018440  \n",
      "2                     -0.049238  \n",
      "3                     -0.849103  \n",
      "4                     -0.695373  \n",
      "...                         ...  \n",
      "8518                   0.349915  \n",
      "8519                  -0.956402  \n",
      "8520                  -0.579100  \n",
      "8521                  -0.196725  \n",
      "8522                  -0.829594  \n",
      "\n",
      "[8523 rows x 1603 columns]\n"
     ]
    }
   ],
   "source": [
    "# Applying the transformation on the dataset\n",
    "df_encoded = ct.fit_transform(df)\n",
    "\n",
    "# Check the encoded DataFrame\n",
    "print(df_encoded)"
   ]
  },
  {
   "cell_type": "markdown",
   "id": "c17c005b",
   "metadata": {},
   "source": [
    "# Feature Derivation\n",
    "To create a new feature called Outlet_Age by calculating the age of the store from the year it was established (Outlet_Establishment_Year):"
   ]
  },
  {
   "cell_type": "code",
   "execution_count": 28,
   "id": "4ae15f69",
   "metadata": {},
   "outputs": [
    {
     "name": "stdout",
     "output_type": "stream",
     "text": [
      "   Outlet_Establishment_Year  Outlet_Age\n",
      "0                       1999          25\n",
      "1                       2009          15\n",
      "2                       1999          25\n",
      "3                       1998          26\n",
      "4                       1987          37\n"
     ]
    }
   ],
   "source": [
    "# Creating the 'Outlet_Age' feature based on the current year (2024)\n",
    "df['Outlet_Age'] = 2024 - df['Outlet_Establishment_Year']\n",
    "\n",
    "# Check the new feature alongside the establishment year\n",
    "print(df[['Outlet_Establishment_Year', 'Outlet_Age']].head())"
   ]
  },
  {
   "cell_type": "markdown",
   "id": "d5be1012",
   "metadata": {},
   "source": [
    "# Outlier Detection\n",
    "\n",
    "* Using Z-score method : \n",
    "The Z-score method for outlier detection is a statistical technique used to identify data points that are significantly different from the mean of a dataset. It is based on the standardization of data, using the Z-score formula to measure how many standard deviations a data point is from the mean.\n",
    "\n",
    "Here’s how you can implement outlier detection using the z-score method in Python, including handling the continuous columns and visualizing the outliers using boxplots."
   ]
  },
  {
   "cell_type": "code",
   "execution_count": 31,
   "id": "f2d753ff",
   "metadata": {},
   "outputs": [],
   "source": [
    "# Define Continuous columns\n",
    "continuous_columns = ['Item_Weight', 'Item_Visibility', 'Item_MRP', 'Item_Outlet_Sales']\n"
   ]
  },
  {
   "cell_type": "code",
   "execution_count": 32,
   "id": "6e3b282d",
   "metadata": {},
   "outputs": [],
   "source": [
    "# Z-Score threshold for detecting outliers\n",
    "z_threshold = 2.5"
   ]
  },
  {
   "cell_type": "code",
   "execution_count": 35,
   "id": "4e554018",
   "metadata": {},
   "outputs": [
    {
     "name": "stdout",
     "output_type": "stream",
     "text": [
      "Item_Weight: 0 outliers detected.\n",
      "Item_Visibility: 146 outliers detected.\n",
      "Item_MRP: 0 outliers detected.\n",
      "Item_Outlet_Sales: 197 outliers detected.\n"
     ]
    }
   ],
   "source": [
    "# Dictionary to hold outliers for each column\n",
    "outliers_dict = {}\n",
    "\n",
    "# Loop over each continuous column to calculate z-scores and find outliers\n",
    "for col in continuous_columns:\n",
    "    # Calculate the z-score for the column\n",
    "    df[col + '_zscore'] = np.abs((df[col] - df[col].mean()) / df[col].std())\n",
    "    \n",
    "    # Detect outliers where z-score is greater than the threshold\n",
    "    outliers_dict[col] = df[df[col + '_zscore'] > z_threshold]\n",
    "\n",
    "    # Print the number of outliers detected\n",
    "    print(f\"{col}: {outliers_dict[col].shape[0]} outliers detected.\")\n"
   ]
  },
  {
   "cell_type": "code",
   "execution_count": 38,
   "id": "43e9ff8a",
   "metadata": {},
   "outputs": [
    {
     "data": {
      "image/png": "[encoded data removed]",
      "text/plain": [
       "<Figure size 1500x1000 with 4 Axes>"
      ]
     },
     "metadata": {},
     "output_type": "display_data"
    }
   ],
   "source": [
    "# Create a 2x2 grid of boxplots for the continuous columns\n",
    "plt.figure(figsize=(15, 10))\n",
    "\n",
    "for i, col in enumerate(continuous_columns, 1):\n",
    "    plt.subplot(2, 2, i)\n",
    "    sns.boxplot(x=df[col])\n",
    "    plt.title(f'Boxplot of {col} with Outliers (Z-Threshold: {z_threshold})')\n",
    "\n",
    "# Adjust the layout\n",
    "plt.tight_layout()\n",
    "plt.show()\n"
   ]
  },
  {
   "cell_type": "markdown",
   "id": "edb49e35",
   "metadata": {},
   "source": [
    "#  Remove Outliers"
   ]
  },
  {
   "cell_type": "code",
   "execution_count": 39,
   "id": "de6d6054",
   "metadata": {},
   "outputs": [
    {
     "name": "stdout",
     "output_type": "stream",
     "text": [
      "Original dataset size: (8523, 17)\n",
      "Dataset size after removing outliers: (8326, 17)\n"
     ]
    }
   ],
   "source": [
    "# Removing rows where Z-score for 'Item_Outlet_Sales' is greater than the threshold\n",
    "outliers_removed = df[df['Item_Outlet_Sales_zscore'] < z_threshold]\n",
    "\n",
    "# Print the original and new dataset sizes\n",
    "print(f\"Original dataset size: {df.shape}\")\n",
    "print(f\"Dataset size after removing outliers: {outliers_removed.shape}\")\n"
   ]
  },
  {
   "cell_type": "markdown",
   "id": "7910168c",
   "metadata": {},
   "source": [
    "* Using the `IQR Method` for Outlier Detection\n",
    "\n",
    "* The IQR (Interquartile Range) method is another common approach to detect and remove outliers. Here's how you can apply it:"
   ]
  },
  {
   "cell_type": "code",
   "execution_count": 42,
   "id": "2a09bfbd",
   "metadata": {},
   "outputs": [
    {
     "name": "stdout",
     "output_type": "stream",
     "text": [
      "Outliers detected in Item_Weight: 0\n",
      "Outliers detected in Item_Visibility: 144\n",
      "Outliers detected in Item_MRP: 0\n",
      "Outliers detected in Item_Outlet_Sales: 186\n"
     ]
    }
   ],
   "source": [
    "# Function to detect outliers using IQR\n",
    "def detect_outliers_iqr(df, column):\n",
    "    Q1 = df[column].quantile(0.25)\n",
    "    Q3 = df[column].quantile(0.75)\n",
    "    IQR = Q3 - Q1\n",
    "    lower_bound = Q1 - 1.5 * IQR\n",
    "    upper_bound = Q3 + 1.5 * IQR\n",
    "    return df[(df[column] < lower_bound) | (df[column] > upper_bound)]\n",
    "\n",
    "# Checking for outliers in numerical columns\n",
    "numerical_cols = ['Item_Weight', 'Item_Visibility', 'Item_MRP', 'Item_Outlet_Sales']\n",
    "outliers = {}\n",
    "\n",
    "for col in numerical_cols:\n",
    "    outliers[col] = detect_outliers_iqr(df, col)\n",
    "    print(f\"Outliers detected in {col}: {len(outliers[col])}\")\n"
   ]
  },
  {
   "cell_type": "code",
   "execution_count": 47,
   "id": "b16ec5b5",
   "metadata": {},
   "outputs": [
    {
     "name": "stdout",
     "output_type": "stream",
     "text": [
      "Dataset size after removing outliers using IQR: (8337, 17)\n"
     ]
    }
   ],
   "source": [
    "# Calculate Q1 (25th percentile) and Q3 (75th percentile)\n",
    "Q1 = df['Item_Outlet_Sales'].quantile(0.25)\n",
    "Q3 = df['Item_Outlet_Sales'].quantile(0.75)\n",
    "\n",
    "# Calculate IQR\n",
    "IQR = Q3 - Q1\n",
    "\n",
    "# Define bounds for outliers\n",
    "lower_bound = Q1 - 1.5 * IQR\n",
    "upper_bound = Q3 + 1.5 * IQR\n",
    "\n",
    "# Removing outliers using IQR method\n",
    "outliers_removed_iqr = df[(df['Item_Outlet_Sales'] >= lower_bound) & (df['Item_Outlet_Sales'] <= upper_bound)]\n",
    "\n",
    "# Print dataset size after removing outliers using IQR\n",
    "print(f\"Dataset size after removing outliers using IQR: {outliers_removed_iqr.shape}\")"
   ]
  },
  {
   "cell_type": "markdown",
   "id": "9065a9ad",
   "metadata": {},
   "source": [
    "* Assuming `outliers_removed` is cleaned dataset"
   ]
  },
  {
   "cell_type": "code",
   "execution_count": 48,
   "id": "3870f21d",
   "metadata": {},
   "outputs": [],
   "source": [
    "# Columns to be standardized\n",
    "scaled_columns = ['Item_Weight', 'Item_Visibility', 'Item_MRP', 'Item_Outlet_Sales']"
   ]
  },
  {
   "cell_type": "code",
   "execution_count": 50,
   "id": "b86ef9f2",
   "metadata": {},
   "outputs": [
    {
     "name": "stdout",
     "output_type": "stream",
     "text": [
      "  Item_Identifier  Item_Weight Item_Fat_Content  Item_Visibility  \\\n",
      "0           FDA15    -0.823778          Low Fat        -0.971109   \n",
      "1           DRC01    -1.615975          Regular        -0.908784   \n",
      "2           FDN15     1.098121          Low Fat        -0.957359   \n",
      "3           FDX07     1.496564          Regular        -1.280664   \n",
      "4           NCD19    -0.910498          Low Fat        -1.280664   \n",
      "\n",
      "               Item_Type  Item_MRP Outlet_Identifier  \\\n",
      "0                  Dairy  1.800763            OUT049   \n",
      "1            Soft Drinks -1.476024            OUT018   \n",
      "2                   Meat  0.041710            OUT049   \n",
      "3  Fruits and Vegetables  0.699815            OUT010   \n",
      "4              Household -1.385102            OUT013   \n",
      "\n",
      "   Outlet_Establishment_Year Outlet_Size Outlet_Location_Type  \\\n",
      "0                       1999      Medium               Tier 1   \n",
      "1                       2009      Medium               Tier 3   \n",
      "2                       1999      Medium               Tier 1   \n",
      "3                       1998       Small               Tier 3   \n",
      "4                       1987        High               Tier 3   \n",
      "\n",
      "         Outlet_Type  Item_Outlet_Sales  Outlet_Age  Item_Weight_zscore  \\\n",
      "0  Supermarket Type1           1.122235          25            0.828359   \n",
      "1  Supermarket Type2          -1.074526          15            1.625269   \n",
      "2  Supermarket Type1           0.029187          25            1.104972   \n",
      "3      Grocery Store          -0.881687          26            1.505785   \n",
      "4  Supermarket Type1          -0.706622          37            0.915595   \n",
      "\n",
      "   Item_Visibility_zscore  Item_MRP_zscore  Item_Outlet_Sales_zscore  \n",
      "0                0.970675         1.747351                  0.910548  \n",
      "1                0.908058         1.488936                  1.018381  \n",
      "2                0.956861         0.010040                  0.049235  \n",
      "3                1.281683         0.660011                  0.849053  \n",
      "4                1.281683         1.399138                  0.695332  \n"
     ]
    }
   ],
   "source": [
    "# Initialize the scaler\n",
    "scaler = StandardScaler()\n",
    "\n",
    "# Standardize the specified columns and assign the result back to the dataframe correctly\n",
    "outliers_removed.loc[:, scaled_columns] = scaler.fit_transform(outliers_removed[scaled_columns])\n",
    "\n",
    "# Check the head of the updated DataFrame\n",
    "print(outliers_removed.head())\n"
   ]
  },
  {
   "cell_type": "code",
   "execution_count": 51,
   "id": "c999f554",
   "metadata": {},
   "outputs": [
    {
     "name": "stdout",
     "output_type": "stream",
     "text": [
      "  Item_Identifier  Item_Weight Item_Fat_Content  Item_Visibility  \\\n",
      "0           FDA15    -0.823778          Low Fat        -0.971109   \n",
      "1           DRC01    -1.615975          Regular        -0.908784   \n",
      "2           FDN15     1.098121          Low Fat        -0.957359   \n",
      "3           FDX07     1.496564          Regular        -1.280664   \n",
      "\n",
      "               Item_Type  Item_MRP Outlet_Identifier  \\\n",
      "0                  Dairy  1.800763            OUT049   \n",
      "1            Soft Drinks -1.476024            OUT018   \n",
      "2                   Meat  0.041710            OUT049   \n",
      "3  Fruits and Vegetables  0.699815            OUT010   \n",
      "\n",
      "   Outlet_Establishment_Year Outlet_Size Outlet_Location_Type  \\\n",
      "0                       1999      Medium               Tier 1   \n",
      "1                       2009      Medium               Tier 3   \n",
      "2                       1999      Medium               Tier 1   \n",
      "3                       1998       Small               Tier 3   \n",
      "\n",
      "         Outlet_Type  Item_Outlet_Sales  Outlet_Age  Item_Weight_zscore  \\\n",
      "0  Supermarket Type1           1.122235          25            0.828359   \n",
      "1  Supermarket Type2          -1.074526          15            1.625269   \n",
      "2  Supermarket Type1           0.029187          25            1.104972   \n",
      "3      Grocery Store          -0.881687          26            1.505785   \n",
      "\n",
      "   Item_Visibility_zscore  Item_MRP_zscore  Item_Outlet_Sales_zscore  \n",
      "0                0.970675         1.747351                  0.910548  \n",
      "1                0.908058         1.488936                  1.018381  \n",
      "2                0.956861         0.010040                  0.049235  \n",
      "3                1.281683         0.660011                  0.849053  \n"
     ]
    }
   ],
   "source": [
    "# Replacing 'df' with the cleaned dataset 'outliers_removed'\n",
    "df = outliers_removed\n",
    "\n",
    "# Display the first 4 rows of the updated dataset\n",
    "print(df.head(4))\n"
   ]
  },
  {
   "cell_type": "markdown",
   "id": "ed853d18",
   "metadata": {},
   "source": [
    "# Feature Scaling\n",
    "\n",
    "* Apply Min-Max Scaling"
   ]
  },
  {
   "cell_type": "code",
   "execution_count": 53,
   "id": "f6c59cd1",
   "metadata": {},
   "outputs": [
    {
     "name": "stdout",
     "output_type": "stream",
     "text": [
      "   Item_MRP  Item_Visibility\n",
      "0  0.927507         0.048866\n",
      "1  0.072068         0.058705\n",
      "2  0.468288         0.051037\n",
      "3  0.640093         0.000000\n",
      "4  0.095805         0.000000\n"
     ]
    }
   ],
   "source": [
    "from sklearn.preprocessing import MinMaxScaler\n",
    "\n",
    "# Initialize the MinMaxScaler\n",
    "min_max_scaler = MinMaxScaler()\n",
    "\n",
    "# Apply Min-Max Scaling to 'Item_MRP' and 'Item_Visibility' and replace the values in the original DataFrame using .loc[]\n",
    "df.loc[:, ['Item_MRP', 'Item_Visibility']] = min_max_scaler.fit_transform(df[['Item_MRP', 'Item_Visibility']])\n",
    "\n",
    "# Check the scaled data\n",
    "print(df[['Item_MRP', 'Item_Visibility']].head())"
   ]
  },
  {
   "cell_type": "markdown",
   "id": "c0f25927",
   "metadata": {},
   "source": [
    "# Target Variable Transformation\n",
    "\n",
    "We will plot the distribution of the target variable Item_Outlet_Sales before and after applying transformations. The target variable is highly skewed, and we aim to make it more normally distributed.\n",
    "\n",
    "* Step 1 : Investigate the Distribution of `Item_Outlet_Sales`"
   ]
  },
  {
   "cell_type": "code",
   "execution_count": 69,
   "id": "cc031302",
   "metadata": {},
   "outputs": [
    {
     "data": {
      "image/png": "[encoded data removed]",
      "text/plain": [
       "<Figure size 640x480 with 1 Axes>"
      ]
     },
     "metadata": {},
     "output_type": "display_data"
    }
   ],
   "source": [
    "# Investigate the distribution of Item Outlet Sales\n",
    "sns.histplot(df['Item_Outlet_Sales'], kde=True)\n",
    "plt.title('Distribution of Item Outlet Sales')\n",
    "plt.xlabel('Item Outlet Sales')\n",
    "plt.ylabel('Frequency')\n",
    "plt.show()"
   ]
  },
  {
   "cell_type": "markdown",
   "id": "5e0bbed2",
   "metadata": {},
   "source": [
    "* Step 2: Implementing log transformation with value adjusment"
   ]
  },
  {
   "cell_type": "code",
   "execution_count": 62,
   "id": "851b5137",
   "metadata": {},
   "outputs": [
    {
     "name": "stdout",
     "output_type": "stream",
     "text": [
      "Minimum value in 'Item_Outlet_Sales': -1.3482320684310651\n"
     ]
    }
   ],
   "source": [
    "# Check the minimum value in the 'Item_Outlet_Sales' column\n",
    "min_value = df['Item_Outlet_Sales'].min()\n",
    "print(f\"Minimum value in 'Item_Outlet_Sales': {min_value}\")"
   ]
  },
  {
   "cell_type": "code",
   "execution_count": 64,
   "id": "a1852285",
   "metadata": {},
   "outputs": [],
   "source": [
    "# If the minimum value is negative, shift the values to make all positive\n",
    "if min_value <= 0:\n",
    "    shift_value = abs(min_value) + 1  # Shift to make all values positive\n",
    "    df['Item_Outlet_Sales_Shifted'] = df['Item_Outlet_Sales'] + shift_value\n",
    "\n",
    "    # Apply log transformation\n",
    "    df['Item_Outlet_Sales_Log'] = np.log(df['Item_Outlet_Sales_Shifted'])\n",
    "else:\n",
    "    # If there are no negative values, just apply log transformation\n",
    "    data['Item_Outlet_Sales_Log'] = np.log(df['Item_Outlet_Sales'])"
   ]
  },
  {
   "cell_type": "markdown",
   "id": "e856511a",
   "metadata": {},
   "source": [
    "* Step 3: Check Distribution After Transformation"
   ]
  },
  {
   "cell_type": "code",
   "execution_count": 71,
   "id": "c2de5200",
   "metadata": {},
   "outputs": [
    {
     "data": {
      "image/png": "[encoded data removed]",
      "text/plain": [
       "<Figure size 640x480 with 1 Axes>"
      ]
     },
     "metadata": {},
     "output_type": "display_data"
    }
   ],
   "source": [
    "# Check distribution after log transformation\n",
    "sns.histplot(df['Item_Outlet_Sales_Log'], kde=True)\n",
    "plt.title('Distribution of Log-Transformed Item Outlet Sales')\n",
    "plt.xlabel('Log of Item Outlet Sales')\n",
    "plt.ylabel('Frequency')\n",
    "plt.show()"
   ]
  },
  {
   "cell_type": "code",
   "execution_count": 73,
   "id": "f6cf76ce",
   "metadata": {},
   "outputs": [
    {
     "data": {
      "text/html": [
       "<div>\n",
       "<style scoped>\n",
       "    .dataframe tbody tr th:only-of-type {\n",
       "        vertical-align: middle;\n",
       "    }\n",
       "\n",
       "    .dataframe tbody tr th {\n",
       "        vertical-align: top;\n",
       "    }\n",
       "\n",
       "    .dataframe thead th {\n",
       "        text-align: right;\n",
       "    }\n",
       "</style>\n",
       "<table border=\"1\" class=\"dataframe\">\n",
       "  <thead>\n",
       "    <tr style=\"text-align: right;\">\n",
       "      <th></th>\n",
       "      <th>Item_Outlet_Sales</th>\n",
       "      <th>Item_Outlet_Sales_Shifted</th>\n",
       "      <th>Item_Outlet_Sales_Log</th>\n",
       "    </tr>\n",
       "  </thead>\n",
       "  <tbody>\n",
       "    <tr>\n",
       "      <th>0</th>\n",
       "      <td>1.122235</td>\n",
       "      <td>3.470467</td>\n",
       "      <td>1.244289</td>\n",
       "    </tr>\n",
       "    <tr>\n",
       "      <th>1</th>\n",
       "      <td>-1.074526</td>\n",
       "      <td>1.273706</td>\n",
       "      <td>0.241931</td>\n",
       "    </tr>\n",
       "    <tr>\n",
       "      <th>2</th>\n",
       "      <td>0.029187</td>\n",
       "      <td>2.377419</td>\n",
       "      <td>0.866015</td>\n",
       "    </tr>\n",
       "    <tr>\n",
       "      <th>3</th>\n",
       "      <td>-0.881687</td>\n",
       "      <td>1.466545</td>\n",
       "      <td>0.382909</td>\n",
       "    </tr>\n",
       "    <tr>\n",
       "      <th>4</th>\n",
       "      <td>-0.706622</td>\n",
       "      <td>1.641611</td>\n",
       "      <td>0.495678</td>\n",
       "    </tr>\n",
       "  </tbody>\n",
       "</table>\n",
       "</div>"
      ],
      "text/plain": [
       "   Item_Outlet_Sales  Item_Outlet_Sales_Shifted  Item_Outlet_Sales_Log\n",
       "0           1.122235                   3.470467               1.244289\n",
       "1          -1.074526                   1.273706               0.241931\n",
       "2           0.029187                   2.377419               0.866015\n",
       "3          -0.881687                   1.466545               0.382909\n",
       "4          -0.706622                   1.641611               0.495678"
      ]
     },
     "execution_count": 73,
     "metadata": {},
     "output_type": "execute_result"
    }
   ],
   "source": [
    "# Display transformed data\n",
    "df[['Item_Outlet_Sales', 'Item_Outlet_Sales_Shifted', 'Item_Outlet_Sales_Log']].head()"
   ]
  },
  {
   "cell_type": "code",
   "execution_count": 17,
   "id": "105c8667",
   "metadata": {},
   "outputs": [
    {
     "data": {
      "text/html": [
       "<div>\n",
       "<style scoped>\n",
       "    .dataframe tbody tr th:only-of-type {\n",
       "        vertical-align: middle;\n",
       "    }\n",
       "\n",
       "    .dataframe tbody tr th {\n",
       "        vertical-align: top;\n",
       "    }\n",
       "\n",
       "    .dataframe thead th {\n",
       "        text-align: right;\n",
       "    }\n",
       "</style>\n",
       "<table border=\"1\" class=\"dataframe\">\n",
       "  <thead>\n",
       "    <tr style=\"text-align: right;\">\n",
       "      <th></th>\n",
       "      <th>Item_Identifier</th>\n",
       "      <th>Item_Weight</th>\n",
       "      <th>Item_Fat_Content</th>\n",
       "      <th>Item_Visibility</th>\n",
       "      <th>Item_Type</th>\n",
       "      <th>Item_MRP</th>\n",
       "      <th>Outlet_Identifier</th>\n",
       "      <th>Outlet_Establishment_Year</th>\n",
       "      <th>Outlet_Size</th>\n",
       "      <th>Outlet_Location_Type</th>\n",
       "      <th>Outlet_Type</th>\n",
       "      <th>Item_Outlet_Sales</th>\n",
       "    </tr>\n",
       "  </thead>\n",
       "  <tbody>\n",
       "    <tr>\n",
       "      <th>0</th>\n",
       "      <td>FDA15</td>\n",
       "      <td>9.300</td>\n",
       "      <td>Low Fat</td>\n",
       "      <td>0.016047</td>\n",
       "      <td>Dairy</td>\n",
       "      <td>249.8092</td>\n",
       "      <td>OUT049</td>\n",
       "      <td>1999</td>\n",
       "      <td>Medium</td>\n",
       "      <td>Tier 1</td>\n",
       "      <td>Supermarket Type1</td>\n",
       "      <td>3735.1380</td>\n",
       "    </tr>\n",
       "    <tr>\n",
       "      <th>1</th>\n",
       "      <td>DRC01</td>\n",
       "      <td>5.920</td>\n",
       "      <td>Regular</td>\n",
       "      <td>0.019278</td>\n",
       "      <td>Soft Drinks</td>\n",
       "      <td>48.2692</td>\n",
       "      <td>OUT018</td>\n",
       "      <td>2009</td>\n",
       "      <td>Medium</td>\n",
       "      <td>Tier 3</td>\n",
       "      <td>Supermarket Type2</td>\n",
       "      <td>443.4228</td>\n",
       "    </tr>\n",
       "    <tr>\n",
       "      <th>2</th>\n",
       "      <td>FDN15</td>\n",
       "      <td>17.500</td>\n",
       "      <td>Low Fat</td>\n",
       "      <td>0.016760</td>\n",
       "      <td>Meat</td>\n",
       "      <td>141.6180</td>\n",
       "      <td>OUT049</td>\n",
       "      <td>1999</td>\n",
       "      <td>Medium</td>\n",
       "      <td>Tier 1</td>\n",
       "      <td>Supermarket Type1</td>\n",
       "      <td>2097.2700</td>\n",
       "    </tr>\n",
       "    <tr>\n",
       "      <th>3</th>\n",
       "      <td>FDX07</td>\n",
       "      <td>19.200</td>\n",
       "      <td>Regular</td>\n",
       "      <td>0.000000</td>\n",
       "      <td>Fruits and Vegetables</td>\n",
       "      <td>182.0950</td>\n",
       "      <td>OUT010</td>\n",
       "      <td>1998</td>\n",
       "      <td>Small</td>\n",
       "      <td>Tier 3</td>\n",
       "      <td>Grocery Store</td>\n",
       "      <td>732.3800</td>\n",
       "    </tr>\n",
       "    <tr>\n",
       "      <th>4</th>\n",
       "      <td>NCD19</td>\n",
       "      <td>8.930</td>\n",
       "      <td>Low Fat</td>\n",
       "      <td>0.000000</td>\n",
       "      <td>Household</td>\n",
       "      <td>53.8614</td>\n",
       "      <td>OUT013</td>\n",
       "      <td>1987</td>\n",
       "      <td>High</td>\n",
       "      <td>Tier 3</td>\n",
       "      <td>Supermarket Type1</td>\n",
       "      <td>994.7052</td>\n",
       "    </tr>\n",
       "    <tr>\n",
       "      <th>...</th>\n",
       "      <td>...</td>\n",
       "      <td>...</td>\n",
       "      <td>...</td>\n",
       "      <td>...</td>\n",
       "      <td>...</td>\n",
       "      <td>...</td>\n",
       "      <td>...</td>\n",
       "      <td>...</td>\n",
       "      <td>...</td>\n",
       "      <td>...</td>\n",
       "      <td>...</td>\n",
       "      <td>...</td>\n",
       "    </tr>\n",
       "    <tr>\n",
       "      <th>8518</th>\n",
       "      <td>FDF22</td>\n",
       "      <td>6.865</td>\n",
       "      <td>Low Fat</td>\n",
       "      <td>0.056783</td>\n",
       "      <td>Snack Foods</td>\n",
       "      <td>214.5218</td>\n",
       "      <td>OUT013</td>\n",
       "      <td>1987</td>\n",
       "      <td>High</td>\n",
       "      <td>Tier 3</td>\n",
       "      <td>Supermarket Type1</td>\n",
       "      <td>2778.3834</td>\n",
       "    </tr>\n",
       "    <tr>\n",
       "      <th>8519</th>\n",
       "      <td>FDS36</td>\n",
       "      <td>8.380</td>\n",
       "      <td>Regular</td>\n",
       "      <td>0.046982</td>\n",
       "      <td>Baking Goods</td>\n",
       "      <td>108.1570</td>\n",
       "      <td>OUT045</td>\n",
       "      <td>2002</td>\n",
       "      <td>Small</td>\n",
       "      <td>Tier 2</td>\n",
       "      <td>Supermarket Type1</td>\n",
       "      <td>549.2850</td>\n",
       "    </tr>\n",
       "    <tr>\n",
       "      <th>8520</th>\n",
       "      <td>NCJ29</td>\n",
       "      <td>10.600</td>\n",
       "      <td>Low Fat</td>\n",
       "      <td>0.035186</td>\n",
       "      <td>Health and Hygiene</td>\n",
       "      <td>85.1224</td>\n",
       "      <td>OUT035</td>\n",
       "      <td>2004</td>\n",
       "      <td>Small</td>\n",
       "      <td>Tier 2</td>\n",
       "      <td>Supermarket Type1</td>\n",
       "      <td>1193.1136</td>\n",
       "    </tr>\n",
       "    <tr>\n",
       "      <th>8521</th>\n",
       "      <td>FDN46</td>\n",
       "      <td>7.210</td>\n",
       "      <td>Regular</td>\n",
       "      <td>0.145221</td>\n",
       "      <td>Snack Foods</td>\n",
       "      <td>103.1332</td>\n",
       "      <td>OUT018</td>\n",
       "      <td>2009</td>\n",
       "      <td>Medium</td>\n",
       "      <td>Tier 3</td>\n",
       "      <td>Supermarket Type2</td>\n",
       "      <td>1845.5976</td>\n",
       "    </tr>\n",
       "    <tr>\n",
       "      <th>8522</th>\n",
       "      <td>DRG01</td>\n",
       "      <td>14.800</td>\n",
       "      <td>Low Fat</td>\n",
       "      <td>0.044878</td>\n",
       "      <td>Soft Drinks</td>\n",
       "      <td>75.4670</td>\n",
       "      <td>OUT046</td>\n",
       "      <td>1997</td>\n",
       "      <td>Small</td>\n",
       "      <td>Tier 1</td>\n",
       "      <td>Supermarket Type1</td>\n",
       "      <td>765.6700</td>\n",
       "    </tr>\n",
       "  </tbody>\n",
       "</table>\n",
       "<p>8523 rows × 12 columns</p>\n",
       "</div>"
      ],
      "text/plain": [
       "     Item_Identifier  Item_Weight Item_Fat_Content  Item_Visibility  \\\n",
       "0              FDA15        9.300          Low Fat         0.016047   \n",
       "1              DRC01        5.920          Regular         0.019278   \n",
       "2              FDN15       17.500          Low Fat         0.016760   \n",
       "3              FDX07       19.200          Regular         0.000000   \n",
       "4              NCD19        8.930          Low Fat         0.000000   \n",
       "...              ...          ...              ...              ...   \n",
       "8518           FDF22        6.865          Low Fat         0.056783   \n",
       "8519           FDS36        8.380          Regular         0.046982   \n",
       "8520           NCJ29       10.600          Low Fat         0.035186   \n",
       "8521           FDN46        7.210          Regular         0.145221   \n",
       "8522           DRG01       14.800          Low Fat         0.044878   \n",
       "\n",
       "                  Item_Type  Item_MRP Outlet_Identifier  \\\n",
       "0                     Dairy  249.8092            OUT049   \n",
       "1               Soft Drinks   48.2692            OUT018   \n",
       "2                      Meat  141.6180            OUT049   \n",
       "3     Fruits and Vegetables  182.0950            OUT010   \n",
       "4                 Household   53.8614            OUT013   \n",
       "...                     ...       ...               ...   \n",
       "8518            Snack Foods  214.5218            OUT013   \n",
       "8519           Baking Goods  108.1570            OUT045   \n",
       "8520     Health and Hygiene   85.1224            OUT035   \n",
       "8521            Snack Foods  103.1332            OUT018   \n",
       "8522            Soft Drinks   75.4670            OUT046   \n",
       "\n",
       "      Outlet_Establishment_Year Outlet_Size Outlet_Location_Type  \\\n",
       "0                          1999      Medium               Tier 1   \n",
       "1                          2009      Medium               Tier 3   \n",
       "2                          1999      Medium               Tier 1   \n",
       "3                          1998       Small               Tier 3   \n",
       "4                          1987        High               Tier 3   \n",
       "...                         ...         ...                  ...   \n",
       "8518                       1987        High               Tier 3   \n",
       "8519                       2002       Small               Tier 2   \n",
       "8520                       2004       Small               Tier 2   \n",
       "8521                       2009      Medium               Tier 3   \n",
       "8522                       1997       Small               Tier 1   \n",
       "\n",
       "            Outlet_Type  Item_Outlet_Sales  \n",
       "0     Supermarket Type1          3735.1380  \n",
       "1     Supermarket Type2           443.4228  \n",
       "2     Supermarket Type1          2097.2700  \n",
       "3         Grocery Store           732.3800  \n",
       "4     Supermarket Type1           994.7052  \n",
       "...                 ...                ...  \n",
       "8518  Supermarket Type1          2778.3834  \n",
       "8519  Supermarket Type1           549.2850  \n",
       "8520  Supermarket Type1          1193.1136  \n",
       "8521  Supermarket Type2          1845.5976  \n",
       "8522  Supermarket Type1           765.6700  \n",
       "\n",
       "[8523 rows x 12 columns]"
      ]
     },
     "execution_count": 17,
     "metadata": {},
     "output_type": "execute_result"
    }
   ],
   "source": [
    "df"
   ]
  },
  {
   "cell_type": "code",
   "execution_count": null,
   "id": "464abc41",
   "metadata": {},
   "outputs": [],
   "source": []
  }
 ],
 "metadata": {
  "kernelspec": {
   "display_name": "Python 3 (ipykernel)",
   "language": "python",
   "name": "python3"
  },
  "language_info": {
   "codemirror_mode": {
    "name": "ipython",
    "version": 3
   },
   "file_extension": ".py",
   "mimetype": "text/x-python",
   "name": "python",
   "nbconvert_exporter": "python",
   "pygments_lexer": "ipython3",
   "version": "3.11.5"
  }
 },
 "nbformat": 4,
 "nbformat_minor": 5
}
